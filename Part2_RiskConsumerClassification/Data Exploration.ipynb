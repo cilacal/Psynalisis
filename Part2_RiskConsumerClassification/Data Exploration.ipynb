{
 "cells": [
  {
   "cell_type": "code",
   "execution_count": 1,
   "metadata": {},
   "outputs": [],
   "source": [
    "import pandas as pd\n",
    "import numpy as np"
   ]
  },
  {
   "cell_type": "markdown",
   "metadata": {},
   "source": [
    "# Data exploration"
   ]
  },
  {
   "cell_type": "markdown",
   "metadata": {},
   "source": [
    "Description of the dataset can be found [here](https://www.icpsr.umich.edu/web/ICPSR/studies/34933/variables)."
   ]
  },
  {
   "cell_type": "code",
   "execution_count": 2,
   "metadata": {
    "scrolled": false
   },
   "outputs": [
    {
     "name": "stdout",
     "output_type": "stream",
     "text": [
      "Shape of the dataset:  (55268, 3120)\n"
     ]
    },
    {
     "data": {
      "text/html": [
       "<div>\n",
       "<style scoped>\n",
       "    .dataframe tbody tr th:only-of-type {\n",
       "        vertical-align: middle;\n",
       "    }\n",
       "\n",
       "    .dataframe tbody tr th {\n",
       "        vertical-align: top;\n",
       "    }\n",
       "\n",
       "    .dataframe thead th {\n",
       "        text-align: right;\n",
       "    }\n",
       "</style>\n",
       "<table border=\"1\" class=\"dataframe\">\n",
       "  <thead>\n",
       "    <tr style=\"text-align: right;\">\n",
       "      <th></th>\n",
       "      <th>CASEID</th>\n",
       "      <th>QUESTID2</th>\n",
       "      <th>CIGEVER</th>\n",
       "      <th>CIGOFRSM</th>\n",
       "      <th>CIGWILYR</th>\n",
       "      <th>CIGTRY</th>\n",
       "      <th>CIGYFU</th>\n",
       "      <th>CIGMFU</th>\n",
       "      <th>CIGREC</th>\n",
       "      <th>CIG30USE</th>\n",
       "      <th>...</th>\n",
       "      <th>IIEMPSTY</th>\n",
       "      <th>II2EMSTY</th>\n",
       "      <th>EMPSTAT4</th>\n",
       "      <th>IIEMPST4</th>\n",
       "      <th>II2EMST4</th>\n",
       "      <th>PDEN00</th>\n",
       "      <th>COUTYP2</th>\n",
       "      <th>ANALWT_C</th>\n",
       "      <th>VESTR</th>\n",
       "      <th>VEREP</th>\n",
       "    </tr>\n",
       "  </thead>\n",
       "  <tbody>\n",
       "    <tr>\n",
       "      <th>0</th>\n",
       "      <td>1</td>\n",
       "      <td>50886467</td>\n",
       "      <td>2</td>\n",
       "      <td>4</td>\n",
       "      <td>4</td>\n",
       "      <td>991</td>\n",
       "      <td>9991</td>\n",
       "      <td>91</td>\n",
       "      <td>91</td>\n",
       "      <td>91</td>\n",
       "      <td>...</td>\n",
       "      <td>1</td>\n",
       "      <td>1</td>\n",
       "      <td>99</td>\n",
       "      <td>9</td>\n",
       "      <td>9</td>\n",
       "      <td>2</td>\n",
       "      <td>2</td>\n",
       "      <td>1275.597449</td>\n",
       "      <td>30054</td>\n",
       "      <td>2</td>\n",
       "    </tr>\n",
       "    <tr>\n",
       "      <th>1</th>\n",
       "      <td>2</td>\n",
       "      <td>13766883</td>\n",
       "      <td>2</td>\n",
       "      <td>99</td>\n",
       "      <td>99</td>\n",
       "      <td>991</td>\n",
       "      <td>9991</td>\n",
       "      <td>91</td>\n",
       "      <td>91</td>\n",
       "      <td>91</td>\n",
       "      <td>...</td>\n",
       "      <td>1</td>\n",
       "      <td>1</td>\n",
       "      <td>1</td>\n",
       "      <td>1</td>\n",
       "      <td>1</td>\n",
       "      <td>2</td>\n",
       "      <td>2</td>\n",
       "      <td>5191.071173</td>\n",
       "      <td>30031</td>\n",
       "      <td>1</td>\n",
       "    </tr>\n",
       "    <tr>\n",
       "      <th>2</th>\n",
       "      <td>3</td>\n",
       "      <td>17772877</td>\n",
       "      <td>2</td>\n",
       "      <td>99</td>\n",
       "      <td>99</td>\n",
       "      <td>991</td>\n",
       "      <td>9991</td>\n",
       "      <td>91</td>\n",
       "      <td>91</td>\n",
       "      <td>91</td>\n",
       "      <td>...</td>\n",
       "      <td>1</td>\n",
       "      <td>1</td>\n",
       "      <td>1</td>\n",
       "      <td>1</td>\n",
       "      <td>1</td>\n",
       "      <td>3</td>\n",
       "      <td>3</td>\n",
       "      <td>419.742011</td>\n",
       "      <td>30056</td>\n",
       "      <td>2</td>\n",
       "    </tr>\n",
       "    <tr>\n",
       "      <th>3</th>\n",
       "      <td>4</td>\n",
       "      <td>45622817</td>\n",
       "      <td>1</td>\n",
       "      <td>99</td>\n",
       "      <td>99</td>\n",
       "      <td>13</td>\n",
       "      <td>9999</td>\n",
       "      <td>99</td>\n",
       "      <td>2</td>\n",
       "      <td>93</td>\n",
       "      <td>...</td>\n",
       "      <td>1</td>\n",
       "      <td>1</td>\n",
       "      <td>2</td>\n",
       "      <td>1</td>\n",
       "      <td>1</td>\n",
       "      <td>2</td>\n",
       "      <td>2</td>\n",
       "      <td>1449.303889</td>\n",
       "      <td>30054</td>\n",
       "      <td>1</td>\n",
       "    </tr>\n",
       "    <tr>\n",
       "      <th>4</th>\n",
       "      <td>5</td>\n",
       "      <td>17239390</td>\n",
       "      <td>1</td>\n",
       "      <td>99</td>\n",
       "      <td>99</td>\n",
       "      <td>11</td>\n",
       "      <td>9999</td>\n",
       "      <td>99</td>\n",
       "      <td>4</td>\n",
       "      <td>93</td>\n",
       "      <td>...</td>\n",
       "      <td>1</td>\n",
       "      <td>1</td>\n",
       "      <td>1</td>\n",
       "      <td>1</td>\n",
       "      <td>1</td>\n",
       "      <td>1</td>\n",
       "      <td>1</td>\n",
       "      <td>15344.293577</td>\n",
       "      <td>30012</td>\n",
       "      <td>2</td>\n",
       "    </tr>\n",
       "  </tbody>\n",
       "</table>\n",
       "<p>5 rows × 3120 columns</p>\n",
       "</div>"
      ],
      "text/plain": [
       "   CASEID  QUESTID2  CIGEVER  CIGOFRSM  CIGWILYR  CIGTRY  CIGYFU  CIGMFU  \\\n",
       "0       1  50886467        2         4         4     991    9991      91   \n",
       "1       2  13766883        2        99        99     991    9991      91   \n",
       "2       3  17772877        2        99        99     991    9991      91   \n",
       "3       4  45622817        1        99        99      13    9999      99   \n",
       "4       5  17239390        1        99        99      11    9999      99   \n",
       "\n",
       "   CIGREC  CIG30USE  ...  IIEMPSTY  II2EMSTY  EMPSTAT4  IIEMPST4  II2EMST4  \\\n",
       "0      91        91  ...         1         1        99         9         9   \n",
       "1      91        91  ...         1         1         1         1         1   \n",
       "2      91        91  ...         1         1         1         1         1   \n",
       "3       2        93  ...         1         1         2         1         1   \n",
       "4       4        93  ...         1         1         1         1         1   \n",
       "\n",
       "   PDEN00  COUTYP2      ANALWT_C  VESTR  VEREP  \n",
       "0       2        2   1275.597449  30054      2  \n",
       "1       2        2   5191.071173  30031      1  \n",
       "2       3        3    419.742011  30056      2  \n",
       "3       2        2   1449.303889  30054      1  \n",
       "4       1        1  15344.293577  30012      2  \n",
       "\n",
       "[5 rows x 3120 columns]"
      ]
     },
     "execution_count": 2,
     "metadata": {},
     "output_type": "execute_result"
    }
   ],
   "source": [
    "df = pd.read_csv('./data/DS0001/34933-0001-Data.tsv', sep = '\\t')\n",
    "print('Shape of the dataset: ',df.shape)\n",
    "df.head()"
   ]
  },
  {
   "cell_type": "markdown",
   "metadata": {},
   "source": [
    "## Checking for NAs"
   ]
  },
  {
   "cell_type": "code",
   "execution_count": 3,
   "metadata": {
    "scrolled": true
   },
   "outputs": [
    {
     "data": {
      "text/plain": [
       "Series([], dtype: int64)"
      ]
     },
     "execution_count": 3,
     "metadata": {},
     "output_type": "execute_result"
    }
   ],
   "source": [
    "naCounts = df.isna().sum()\n",
    "naCounts[naCounts > 0]"
   ]
  },
  {
   "cell_type": "markdown",
   "metadata": {},
   "source": [
    "## Create response variables"
   ]
  },
  {
   "cell_type": "markdown",
   "metadata": {},
   "source": [
    "### Description"
   ]
  },
  {
   "cell_type": "markdown",
   "metadata": {},
   "source": [
    "The consumption of 12 drugs were examined by this survey. For each drug there were a plenty of different variables recorded. To design the response variables, I followed the paper of *Arie Cohen, Martha D. Harrison (The “Urge to Classify” the Drug User: A Review of Classifications by Pattern of Abuse, 1986)* where they have collected the ways drug users are classified - amoung others - based on their pattern of abuse. They concluded that \"Degree of involvment classifications can, in turn, be subdivided into: (1) those directly measuring degree of involvment, (2) those measuring degree of involvment through indexing, and (3) those measuring degree of involvment through mode of administration.\" Given the nature of the underlying dataset and the research papers, sources considered in the one above (e.g. Cockett (1971), National Commission on Marijuana and Drug Abuse Report (1973) the (1) way of classification was used by grouping the respondents into four groups in the following manner: \n",
    "\n",
    "After examining the dataset from closer, the respondents were classified based on the answers to the below listed questions,  either as \n",
    "\n",
    "* _non user (Category: 5),_\n",
    "* _experimental user (Category: 4),_\n",
    "* _circumstantial user (Category: 3),_\n",
    "* _intensified user (Category: 2),_\n",
    "* _compulsive user (Category: 1)_.\n",
    "\n",
    "The answers to the following questions were used to classify the respondent:\n",
    "* Have you ever consumed a *something*? (*XY*EVER) \n",
    "    * 1 - Yes $\\Rightarrow$ Category 1-4\n",
    "    * 2 - No $\\Rightarrow$ Category 5\n",
    "    \n",
    "    \n",
    "* Time since last consumed a *something* (*XY*REC)?\n",
    "    * 1, 11 - Within the past 30 days $\\Rightarrow$ Category 1, 2\n",
    "    * 2, 8,  - More than 30 days ago but within the past 12 months $\\Rightarrow$ Category: 3\n",
    "    * 3 - More than 12 months ago $\\Rightarrow$ Category 4\n",
    "    \n",
    "    \n",
    "* Total # of days used *something* in past 12 months (*XY*YRTOT)?\n",
    "    * \\> 250 (~ 70%) $\\Rightarrow$ Category 1\n",
    "    * \\> 180 (~ 50%) $\\Rightarrow$ Category 2\n",
    "    * < 5 & < 180 $\\Rightarrow$ Category 3\n",
    "    * < 1 & < 5 $\\Rightarrow$ Category 4\n",
    "    * 0 $\\Rightarrow$ Category 5\n",
    "    \n",
    "\n",
    "* What would be the easiest way for you to tell us how many days you've used it (within the past 12 months)? (*XY*BSTWAY) \n",
    "    * 1, 11 - Prefer to answer in days per week. $\\Rightarrow$ Category 1\n",
    "    * 2, 12 - Prefer to asnwer in days per month. $\\Rightarrow$ Category 2\n",
    "    * 3, 13 - Prefer to answer in days per year. $\\Rightarrow$ Category 3\n",
    "    * 93 - did not use XY in the past 12 months $\\Rightarrow$ Category 4\n",
    "    * 91 - Never used XY $\\Rightarrow$ Category 5\n",
    "    \n",
    "\n",
    "* On how many days in the past 12 months did you consume *XY* (*XY*DAYPYR)?\n",
    "    * \\>= 250 (~ 5 times per week) $\\Rightarrow$ Category 1\n",
    "    * \\>= 52 (~ once per week) $\\Rightarrow$ Category 2\n",
    "    * <= 5 & < 52 $\\Rightarrow$ Category 3\n",
    "    * < 1 & < 5 $\\Rightarrow$ Category 4\n",
    "    * 0 $\\Rightarrow$ Category 5\n",
    "  \n",
    "  \n",
    "* On average, how many days did you consume *XY* each week during the past 12 months (*XY*DAYPWK)?\n",
    "    * \\> 5 $\\Rightarrow$ Category 1\n",
    "    * 2 - 4 $\\Rightarrow$ Category 2\n",
    "    * 1 $\\Rightarrow$ Category 3\n",
    "    * 0 $\\Rightarrow$ Category 4, 5\n"
   ]
  },
  {
   "cell_type": "code",
   "execution_count": 4,
   "metadata": {},
   "outputs": [],
   "source": [
    "# Disclaimer: https://stackoverflow.com/questions/39358092/range-as-dictionary-key-in-python\n",
    "class RangeDict(dict):\n",
    "    def __getitem__(self, item):\n",
    "        if not isinstance(item, range):\n",
    "            for key in self:\n",
    "                if item in key:\n",
    "                    return self[key]\n",
    "            raise KeyError(item)\n",
    "        else:\n",
    "            return super().__getitem__(item)"
   ]
  },
  {
   "cell_type": "code",
   "execution_count": 5,
   "metadata": {},
   "outputs": [],
   "source": [
    "categoryLogic = {\n",
    "    'BSTWAY':{\n",
    "        1: 1,\n",
    "        11: 1,\n",
    "        2: 2,\n",
    "        12: 2,\n",
    "        3: 3,\n",
    "        13: 3,\n",
    "        93: 4,\n",
    "        91: 5\n",
    "    },\n",
    "    'DAYPYR':RangeDict({\n",
    "        range(991, 991): 5,\n",
    "        range(250, 365): 1,\n",
    "        range(52, 250): 2,\n",
    "        range(5, 52): 3,\n",
    "        range(1, 5): 4,\n",
    "        range(0, 1): 5\n",
    "    }),\n",
    "    'DAYPWK':{\n",
    "        91:5,\n",
    "        7:1,\n",
    "        6:1,\n",
    "        5:1,\n",
    "        4:2,\n",
    "        3:2,\n",
    "        2:2,\n",
    "        1:3,\n",
    "        0:5\n",
    "    }\n",
    "}"
   ]
  },
  {
   "cell_type": "markdown",
   "metadata": {},
   "source": [
    "### Analyses before creating the response variables"
   ]
  },
  {
   "cell_type": "markdown",
   "metadata": {},
   "source": [
    "#### Finding the drugs to be analyzed"
   ]
  },
  {
   "cell_type": "code",
   "execution_count": 6,
   "metadata": {},
   "outputs": [],
   "source": [
    "variables = [\"EVER\", \"REC\", \"RTOT\", \"BSTWAY\", \"DAYPYR\", \"DAYPWK\", \"30EST\"]"
   ]
  },
  {
   "cell_type": "code",
   "execution_count": 7,
   "metadata": {},
   "outputs": [
    {
     "name": "stdout",
     "output_type": "stream",
     "text": [
      "EVER variable can be found for 17 drugs.\n",
      "REC variable can be found for 38 drugs.\n",
      "RTOT variable can be found for 13 drugs.\n",
      "BSTWAY variable can be found for 13 drugs.\n",
      "DAYPYR variable can be found for 13 drugs.\n",
      "DAYPWK variable can be found for 13 drugs.\n",
      "30EST variable can be found for 11 drugs.\n"
     ]
    }
   ],
   "source": [
    "maxDistinct = 0\n",
    "minDistinct = 100\n",
    "maxVar = ''\n",
    "minVar = ''\n",
    "for crVar in variables:\n",
    "    crLength = len(df.columns[pd.Series(df.columns).str.endswith(crVar)])\n",
    "    print('{} variable can be found for {} drugs.'.format(crVar, crLength))    "
   ]
  },
  {
   "cell_type": "code",
   "execution_count": 8,
   "metadata": {},
   "outputs": [
    {
     "data": {
      "text/plain": [
       "Index(['ALBSTWAY', 'MRBSTWAY', 'CCBSTWAY', 'CRBSTWAY', 'HRBSTWAY', 'HLBSTWAY',\n",
       "       'INBSTWAY', 'PRBSTWAY', 'OXBSTWAY', 'TRBSTWAY', 'STBSTWAY', 'MTBSTWAY',\n",
       "       'SVBSTWAY'],\n",
       "      dtype='object')"
      ]
     },
     "execution_count": 8,
     "metadata": {},
     "output_type": "execute_result"
    }
   ],
   "source": [
    "df.columns[pd.Series(df.columns).str.endswith(\"BSTWAY\")]"
   ]
  },
  {
   "cell_type": "code",
   "execution_count": 9,
   "metadata": {},
   "outputs": [
    {
     "name": "stdout",
     "output_type": "stream",
     "text": [
      "REC:  ['CIG', 'SNF', 'CHEW', 'SLT', 'CIGAR', 'ALC', 'MJ', 'COC', 'CRAK', 'HER', 'HALL', 'LSD', 'PCP', 'ECS', 'INH', 'ANAL', 'OXYC', 'TRAN', 'STIM', 'METH', 'SED', 'HRSMK', 'HRSNF', 'HRNDL', 'MTNDL', 'MTHA', 'OSTNL', 'CONDL', 'GHB', 'ADDE', 'AMBI', 'COLD', 'KETA', 'TRYP', 'SALV', 'BLNT', 'MMTRD', 'TXLAS']\n",
      "YRTOT:  ['ALC', 'MJ', 'COC', 'CRK', 'HER', 'HAL', 'INH', 'ANL', 'OXY', 'TRN', 'STM', 'MTH', 'SED']\n",
      "BSTWAY : ['AL', 'MR', 'CC', 'CR', 'HR', 'HL', 'IN', 'PR', 'OX', 'TR', 'ST', 'MT', 'SV']\n",
      "DAYPWK:  ['AL', 'MR', 'CC', 'CR', 'HR', 'HL', 'IN', 'PR', 'OX', 'TR', 'ST', 'MT', 'SV']\n"
     ]
    }
   ],
   "source": [
    "print('REC: ', list(map(lambda x: x[:-3], df.columns[pd.Series(df.columns).str.endswith(\"REC\")])))\n",
    "print('YRTOT: ', list(map(lambda x: x[:-5], df.columns[pd.Series(df.columns).str.endswith(\"YRTOT\")])))\n",
    "print('BSTWAY :', list(map(lambda x: x[:-6], df.columns[pd.Series(df.columns).str.endswith(\"BSTWAY\")])))\n",
    "print('DAYPWK: ',list(map(lambda x: x[:-6], df.columns[pd.Series(df.columns).str.endswith(\"DAYPWK\")])))"
   ]
  },
  {
   "cell_type": "markdown",
   "metadata": {},
   "source": [
    "For simplicity, the YRTOT, REC, variable is ommitted.\n",
    "\n",
    "The following 11 drugs are going to be analyzed:\n",
    "- AL: alcohol\n",
    "- MR: marijuana\n",
    "- CC: cocain\n",
    "- CR: crack \n",
    "- HR: heroin\n",
    "- IN: inhalants\n",
    "- PR: pain reliever\n",
    "- OX: oxycontin\n",
    "- TR: tranquilizer\n",
    "- ST: stimulants\n",
    "- MT: methamphetamine\n",
    "- SV: sedatives"
   ]
  },
  {
   "cell_type": "code",
   "execution_count": 10,
   "metadata": {},
   "outputs": [],
   "source": [
    "drugs = list(map(lambda x: x[:-6], df.columns[pd.Series(df.columns).str.endswith(\"BSTWAY\")]))"
   ]
  },
  {
   "cell_type": "markdown",
   "metadata": {},
   "source": [
    "### Creating the response variables"
   ]
  },
  {
   "cell_type": "markdown",
   "metadata": {},
   "source": [
    "...based on BSTWAY, DAYPWK, DAYPYR variables."
   ]
  },
  {
   "cell_type": "code",
   "execution_count": 11,
   "metadata": {},
   "outputs": [],
   "source": [
    "features = ['BSTWAY', 'DAYPWK', 'DAYPYR']"
   ]
  },
  {
   "cell_type": "code",
   "execution_count": 12,
   "metadata": {},
   "outputs": [],
   "source": [
    "def findValue(myKey, myDict):\n",
    "    try: \n",
    "        res = myDict[myKey]\n",
    "    except:\n",
    "        res = None\n",
    "        \n",
    "    return res"
   ]
  },
  {
   "cell_type": "code",
   "execution_count": 13,
   "metadata": {},
   "outputs": [],
   "source": [
    "for drug in drugs:\n",
    "    df[drug + '_cat'] = None\n",
    "    df[drug + '_catRange'] = None\n",
    "    \n",
    "    tmp = pd.DataFrame()\n",
    "    for i, feature in enumerate(features):\n",
    "        tmp[drug + feature +'_cat_' + str(i)] = list(map(lambda x: findValue(x, categoryLogic[feature]), df[drug + feature])) \n",
    "        df[drug + '_cat'] = np.mean(tmp, axis = 1)\n",
    "        df[drug + '_catRange'] = np.max(tmp, axis = 1) - np.min(tmp, axis = 1)\n",
    "               "
   ]
  },
  {
   "cell_type": "markdown",
   "metadata": {},
   "source": [
    "## Data visualization"
   ]
  },
  {
   "cell_type": "markdown",
   "metadata": {},
   "source": [
    "### Cross-visualization based on drug selections"
   ]
  },
  {
   "cell_type": "markdown",
   "metadata": {},
   "source": [
    "## Feature selection"
   ]
  },
  {
   "cell_type": "markdown",
   "metadata": {},
   "source": [
    "Given the huge number of features, feature selection needs to be performed. However, given that I have the goal - besides advanced analysis of the dataset - to create an algorithm which evaluates the risk to be drug consumer given by human input, I need to have a reasonable number of meaningful (i.e. people can fill them manually) variables. To achieve both of my goals, I followed two methods:\n",
    " * I. semi-manual feature selection for the understandable evaluating algorithm,\n",
    " * II. feature selection using algorithms for the deep analysis of the dataset.\n",
    " \n",
    " My choice of the given feature selection algorithms is based on [this article](https://machinelearningmastery.com/feature-selection-with-real-and-categorical-data/)."
   ]
  },
  {
   "cell_type": "markdown",
   "metadata": {},
   "source": [
    "### Method I."
   ]
  },
  {
   "cell_type": "markdown",
   "metadata": {},
   "source": [
    "### Method II."
   ]
  },
  {
   "cell_type": "code",
   "execution_count": 35,
   "metadata": {
    "scrolled": true
   },
   "outputs": [
    {
     "data": {
      "text/plain": [
       "ID           0\n",
       "Age          0\n",
       "Gender       0\n",
       "Education    0\n",
       "Country      0\n",
       "Ethnicity    0\n",
       "Nscore       0\n",
       "Escore       0\n",
       "Oscore       0\n",
       "Ascore       0\n",
       "Cscore       0\n",
       "Impulsive    0\n",
       "SS           0\n",
       "Alcohol      0\n",
       "Amphet       0\n",
       "Amyl         0\n",
       "Benzos       0\n",
       "Caff         0\n",
       "Cannabis     0\n",
       "Choc         0\n",
       "Coke         0\n",
       "Crack        0\n",
       "Ecstasy      0\n",
       "Heroin       0\n",
       "Ketamine     0\n",
       "Legalh       0\n",
       "LSD          0\n",
       "Meth         0\n",
       "Mushrooms    0\n",
       "Nicotine     0\n",
       "Semer        0\n",
       "VSA          0\n",
       "dtype: int64"
      ]
     },
     "execution_count": 35,
     "metadata": {},
     "output_type": "execute_result"
    }
   ],
   "source": []
  }
 ],
 "metadata": {
  "kernelspec": {
   "display_name": "Python 3",
   "language": "python",
   "name": "python3"
  },
  "language_info": {
   "codemirror_mode": {
    "name": "ipython",
    "version": 3
   },
   "file_extension": ".py",
   "mimetype": "text/x-python",
   "name": "python",
   "nbconvert_exporter": "python",
   "pygments_lexer": "ipython3",
   "version": "3.8.3"
  }
 },
 "nbformat": 4,
 "nbformat_minor": 4
}
